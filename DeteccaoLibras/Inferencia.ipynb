{
 "cells": [
  {
   "attachments": {},
   "cell_type": "markdown",
   "metadata": {},
   "source": [
    "# DETECÇÃO DOS SINAIS"
   ]
  },
  {
   "attachments": {},
   "cell_type": "markdown",
   "metadata": {},
   "source": [
    "* Importação das bibliotecas necessárias para rodar o script"
   ]
  },
  {
   "cell_type": "code",
   "execution_count": 1,
   "metadata": {},
   "outputs": [],
   "source": [
    "import pickle\n",
    "import cv2\n",
    "import mediapipe as mp\n",
    "import numpy as np\n",
    "import time"
   ]
  },
  {
   "attachments": {},
   "cell_type": "markdown",
   "metadata": {},
   "source": [
    "* Importa o modelo gerado pelo script \"Treino_Classificacao\""
   ]
  },
  {
   "cell_type": "code",
   "execution_count": 3,
   "metadata": {},
   "outputs": [],
   "source": [
    "model_dict = pickle.load(open('./model_md7.p', 'rb'))\n",
    "model = model_dict['model']"
   ]
  },
  {
   "attachments": {},
   "cell_type": "markdown",
   "metadata": {},
   "source": [
    "* Realiza a inicialização da câmera"
   ]
  },
  {
   "cell_type": "code",
   "execution_count": null,
   "metadata": {},
   "outputs": [],
   "source": [
    "cap = cv2.VideoCapture(0)"
   ]
  },
  {
   "attachments": {},
   "cell_type": "markdown",
   "metadata": {},
   "source": [
    "* A variável mp_hands é responsável por fornecer as funcionalidades de rastreamento de mãos. Com ela, você pode detectar e acompanhar as posições das mãos em uma imagem ou vídeo.</br>\n",
    "* A variável mp_drawing fornece funções utilitárias para desenhar os landmarks, conexões e outras anotações sobre a imagem de saída. Isso é útil para visualizar os resultados do rastreamento das mãos.</br>\n",
    "* Por fim, a variável mp_drawing_styles fornece estilos de desenho predefinidos para os landmarks e conexões identificados nas mãos rastreadas.</br>"
   ]
  },
  {
   "cell_type": "code",
   "execution_count": null,
   "metadata": {},
   "outputs": [],
   "source": [
    "mp_hands = mp.solutions.hands\n",
    "mp_drawing = mp.solutions.drawing_utils\n",
    "mp_drawing_styles = mp.solutions.drawing_styles"
   ]
  },
  {
   "attachments": {},
   "cell_type": "markdown",
   "metadata": {},
   "source": [
    "* Cria um objeto hands que será usado para rastrear mãos em uma imagem estática, com uma confiança mínima de detecção definida como 0.3 (30%)."
   ]
  },
  {
   "cell_type": "code",
   "execution_count": null,
   "metadata": {},
   "outputs": [],
   "source": [
    "hands = mp_hands.Hands(static_image_mode=True, min_detection_confidence=0.3)"
   ]
  },
  {
   "attachments": {},
   "cell_type": "markdown",
   "metadata": {},
   "source": [
    "* Dicionário para fazer a transformação das labels para o texto correto que vai aparecer na câmera quando o simbolo for reconhecido."
   ]
  },
  {
   "cell_type": "code",
   "execution_count": null,
   "metadata": {},
   "outputs": [],
   "source": [
    "labels_dict = {1: '1', 2: '2', 4: '4', 5:'5', 7:'7', 9:'9',\n",
    "    'A':'A','AVIAO': 'AVIAO', 'B':'B', 'C':'C', 'D':'D', 'E':'E', 'F':'F', 'G':'G',\n",
    "    'I':'I', 'L':'L', 'M':'M', 'N':'N', 'O':'O', 'P':'P', 'PALAVRA':'PALAVRA', 'PEQUENO':'PEQUENO',\n",
    "    'Q':'Q', 'R':'R', 'S':'S', 'T':'T', 'U':'U', 'V':'V', 'W':'W', 'X':'X','Y':'Y'}"
   ]
  },
  {
   "attachments": {},
   "cell_type": "markdown",
   "metadata": {},
   "source": [
    "* Detecção e  rastreamento em tempo real das mãos em um vídeo capturado pela câmera, bem como a previsão de um caractere com base nas informações extraídas dos landmarks das mãos usando o modelo treinado. O resultado é exibido no quadro de vídeo em tempo real."
   ]
  },
  {
   "cell_type": "code",
   "execution_count": null,
   "metadata": {},
   "outputs": [],
   "source": [
    "# Inicialização do OpenCV e do MediaPipe\n",
    "cap = cv2.VideoCapture(0)\n",
    "mp_hands = mp.solutions.hands\n",
    "mp_drawing = mp.solutions.drawing_utils\n",
    "\n",
    "# Inicialização das variáveis\n",
    "data_aux = []\n",
    "x_ = []\n",
    "y_ = []\n",
    "fps_start_time = time.time()\n",
    "fps_counter = 0\n",
    "\n",
    "while True:\n",
    "    ret, frame = cap.read()\n",
    "\n",
    "    H, W, _ = frame.shape\n",
    "\n",
    "    frame_rgb = cv2.cvtColor(frame, cv2.COLOR_BGR2RGB)\n",
    "\n",
    "    results = hands.process(frame_rgb)\n",
    "\n",
    "    if results.multi_hand_landmarks:\n",
    "        if len(results.multi_hand_landmarks) == 1:\n",
    "            hand_landmarks = results.multi_hand_landmarks[0]\n",
    "\n",
    "            mp_drawing.draw_landmarks(\n",
    "                frame,\n",
    "                hand_landmarks,\n",
    "                mp_hands.HAND_CONNECTIONS,\n",
    "                mp_drawing_styles.get_default_hand_landmarks_style(),\n",
    "                mp_drawing_styles.get_default_hand_connections_style())\n",
    "\n",
    "            for i in range(len(hand_landmarks.landmark)):\n",
    "                x = hand_landmarks.landmark[i].x\n",
    "                y = hand_landmarks.landmark[i].y\n",
    "\n",
    "                x_.append(x)\n",
    "                y_.append(y)\n",
    "\n",
    "                data_aux.append(x - min(x_))\n",
    "                data_aux.append(y - min(y_))\n",
    "\n",
    "            x1 = int(min(x_) * W)\n",
    "            y1 = int(min(y_) * H)\n",
    "\n",
    "            x2 = int(max(x_) * W)\n",
    "            y2 = int(max(y_) * H)\n",
    "\n",
    "            prediction = model.predict([np.asarray(data_aux)])\n",
    "\n",
    "            if isinstance(prediction[0], str):\n",
    "                predicted_character = prediction[0]\n",
    "            else:\n",
    "                predicted_character = labels_dict.get(prediction[0], 'Desconhecido')\n",
    "\n",
    "            cv2.rectangle(frame, (x1, y1), (x2, y2), (0, 0, 0), 4)\n",
    "            cv2.putText(frame, predicted_character, (x1, y1 - 10), cv2.FONT_HERSHEY_SIMPLEX, 1.3, (120, 120, 120), 3,\n",
    "                        cv2.LINE_AA)\n",
    "\n",
    "            x_ = []\n",
    "            y_ = []\n",
    "            data_aux = []\n",
    "\n",
    "    # Cálculo do FPS\n",
    "    fps_counter += 1\n",
    "    if (time.time() - fps_start_time) > 0:\n",
    "        fps = fps_counter / (time.time() - fps_start_time)\n",
    "        fps_counter = 0\n",
    "        fps_start_time = time.time()\n",
    "        cv2.putText(frame, f'FPS: {round(fps, 2)}', (10, 30), cv2.FONT_HERSHEY_SIMPLEX, 1, (0, 0, 0), 2)\n",
    "    \n",
    "\n",
    "    cv2.imshow('frame', frame)\n",
    "    if cv2.waitKey(1) == 27:  # Press 'Esc' to exit\n",
    "        break\n",
    "\n",
    "cap.release()\n",
    "cv2.destroyAllWindows()\n"
   ]
  }
 ],
 "metadata": {
  "kernelspec": {
   "display_name": "base",
   "language": "python",
   "name": "python3"
  },
  "language_info": {
   "codemirror_mode": {
    "name": "ipython",
    "version": 3
   },
   "file_extension": ".py",
   "mimetype": "text/x-python",
   "name": "python",
   "nbconvert_exporter": "python",
   "pygments_lexer": "ipython3",
   "version": "3.11.4"
  },
  "orig_nbformat": 4
 },
 "nbformat": 4,
 "nbformat_minor": 2
}
